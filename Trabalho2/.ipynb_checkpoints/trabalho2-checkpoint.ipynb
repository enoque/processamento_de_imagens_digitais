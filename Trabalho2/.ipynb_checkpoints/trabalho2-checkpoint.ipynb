{
 "cells": [
  {
   "cell_type": "code",
   "execution_count": 16,
   "metadata": {},
   "outputs": [],
   "source": [
    "import cv2\n",
    "import numpy as np\n",
    "from matplotlib import pyplot as plt\n",
    "img = cv2.imread(\"seagull.png\", cv2.IMREAD_GRAYSCALE)\n",
    "altura_imagem, largura_imagem = img.shape\n"
   ]
  },
  {
   "cell_type": "code",
   "execution_count": 106,
   "metadata": {},
   "outputs": [],
   "source": [
    "def cria_padroes (M):\n",
    "    padroes = []\n",
    "    tam = (len(M)*len(M))+1\n",
    "    for i in range(0,tam):\n",
    "        padroes.append(np.zeros((len(M), len(M))))\n",
    "    \n",
    "    for i in range (0, len(M)):\n",
    "        for j in range (0, len(M)):\n",
    "            elem = M[i,j]\n",
    "            for k in range (elem+1, tam):\n",
    "                padroes[k][i,j] = 1\n",
    "    \n",
    "    \n",
    "    return padroes"
   ]
  },
  {
   "cell_type": "code",
   "execution_count": 117,
   "metadata": {},
   "outputs": [],
   "source": [
    "def half_toning(matriz_de_padroes):\n",
    "\n",
    "    img_out = img\n",
    "    tam_padrao = len(matriz_de_padroes)\n",
    "    tam_equalizacao = (tam_padrao**2)-1\n",
    "    mask = (tam_equalizacao/255.0) * img_out\n",
    "    mask = np.ceil(mask)\n",
    "    newImg = np.zeros((altura_imagem*tam_padrao,largura_imagem*tam_padrao))\n",
    "    padroes = cria_padroes(matriz_de_padroes)\n",
    "    #padroes = cria_padroes(x)\n",
    "    #print (p[4] == padroes[4])\n",
    "    #refere ao x da imagem que esta sendo criada\n",
    "    k = 0\n",
    "    #refere ao y da imagem que esta sendo criada\n",
    "    l = 0\n",
    "    \n",
    "\n",
    "\n",
    "    for i in range(0, altura_imagem):\n",
    "        for j in range(0, largura_imagem):\n",
    "            val = mask[i,j]\n",
    "            pattern = padroes[int(val)]\n",
    "            x_inicio = i + k\n",
    "            x_fim = x_inicio + tam_padrao\n",
    "            y_inicio = j + l\n",
    "            y_fim = y_inicio + tam_padrao\n",
    "            newImg[x_inicio:x_fim, y_inicio:y_fim] = pattern[:,:]\n",
    "\n",
    "            l = l + tam_padrao - 1\n",
    "        l = 0\n",
    "        k = k + tam_padrao - 1\n",
    "\n",
    "\n",
    "    #print(len(padroes))\n",
    "\n",
    "    plt.imshow(newImg, \"gray\")"
   ]
  },
  {
   "cell_type": "code",
   "execution_count": 118,
   "metadata": {},
   "outputs": [
    {
     "data": {
      "image/png": "[encoded data removed]",
      "text/plain": [
       "<Figure size 432x288 with 1 Axes>"
      ]
     },
     "metadata": {
      "needs_background": "light"
     },
     "output_type": "display_data"
    }
   ],
   "source": [
    "matriz_de_padroes = np.array([[6,8,4],[1,0,3],[5,2,7]])\n",
    "matriz_de_padroes = np.array([[0,12,3,15],[8,4,11,7],[2,14,1,13], [10,6,9,5]])\n",
    "half_toning(matriz_de_padroes)"
   ]
  }
 ],
 "metadata": {
  "kernelspec": {
   "display_name": "Python 3",
   "language": "python",
   "name": "python3"
  },
  "language_info": {
   "codemirror_mode": {
    "name": "ipython",
    "version": 3
   },
   "file_extension": ".py",
   "mimetype": "text/x-python",
   "name": "python",
   "nbconvert_exporter": "python",
   "pygments_lexer": "ipython3",
   "version": "3.7.1"
  }
 },
 "nbformat": 4,
 "nbformat_minor": 2
}
